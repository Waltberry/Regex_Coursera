{
  "nbformat": 4,
  "nbformat_minor": 0,
  "metadata": {
    "colab": {
      "name": "regex.ipynb",
      "provenance": [],
      "collapsed_sections": [],
      "authorship_tag": "ABX9TyN79L9Dzdo6+87nEVjWhnRm",
      "include_colab_link": true
    },
    "kernelspec": {
      "name": "python3",
      "display_name": "Python 3"
    },
    "language_info": {
      "name": "python"
    }
  },
  "cells": [
    {
      "cell_type": "markdown",
      "metadata": {
        "id": "view-in-github",
        "colab_type": "text"
      },
      "source": [
        "<a href=\"https://colab.research.google.com/github/Waltberry/Regex_Coursera/blob/main/regex.ipynb\" target=\"_parent\"><img src=\"https://colab.research.google.com/assets/colab-badge.svg\" alt=\"Open In Colab\"/></a>"
      ]
    },
    {
      "cell_type": "code",
      "execution_count": 1,
      "metadata": {
        "id": "2a-ipArYOInJ"
      },
      "outputs": [],
      "source": [
        "import re"
      ]
    },
    {
      "cell_type": "code",
      "source": [
        "#Metacharacters: ^ $\n",
        "st='dogs are adorable'\n",
        "p='^dogs'\n",
        "re.search(p, st)"
      ],
      "metadata": {
        "colab": {
          "base_uri": "https://localhost:8080/"
        },
        "id": "ulR2PlnpOv8z",
        "outputId": "1058f1b7-6ccc-41d0-ea2c-2f7e891cc65a"
      },
      "execution_count": null,
      "outputs": [
        {
          "output_type": "execute_result",
          "data": {
            "text/plain": [
              "<re.Match object; span=(0, 4), match='dogs'>"
            ]
          },
          "metadata": {},
          "execution_count": 2
        }
      ]
    },
    {
      "cell_type": "code",
      "source": [
        "p2='dogs$'\n",
        "print(re.search(p2, st))"
      ],
      "metadata": {
        "colab": {
          "base_uri": "https://localhost:8080/"
        },
        "id": "PDfcbWqgPOW4",
        "outputId": "7c36fb43-6ff7-437b-828d-7e765cfc781d"
      },
      "execution_count": null,
      "outputs": [
        {
          "output_type": "stream",
          "name": "stdout",
          "text": [
            "None\n"
          ]
        }
      ]
    },
    {
      "cell_type": "code",
      "source": [
        "# Quantifiers: ? + *\n",
        "st2='color'\n",
        "st3='colour'\n",
        "re.search('colou?r', st3)"
      ],
      "metadata": {
        "colab": {
          "base_uri": "https://localhost:8080/"
        },
        "id": "KHFflYKEPk4e",
        "outputId": "2bc2a5d6-187f-428f-c869-d34ea7a987dd"
      },
      "execution_count": null,
      "outputs": [
        {
          "output_type": "execute_result",
          "data": {
            "text/plain": [
              "<re.Match object; span=(0, 6), match='colour'>"
            ]
          },
          "metadata": {},
          "execution_count": 4
        }
      ]
    },
    {
      "cell_type": "code",
      "source": [
        "st4='ac'\n",
        "st5='abc'\n",
        "st6='abbc'\n",
        "re.search('ab+c', st5)"
      ],
      "metadata": {
        "colab": {
          "base_uri": "https://localhost:8080/"
        },
        "id": "nS9mM7jAQNH-",
        "outputId": "b81b0203-1be1-4701-e5e1-631c7434962a"
      },
      "execution_count": null,
      "outputs": [
        {
          "output_type": "execute_result",
          "data": {
            "text/plain": [
              "<re.Match object; span=(0, 3), match='abc'>"
            ]
          },
          "metadata": {},
          "execution_count": 5
        }
      ]
    },
    {
      "cell_type": "code",
      "source": [
        "# Metacharacters: - .\\\n"
      ],
      "metadata": {
        "id": "VY-Hw9zfQnk1"
      },
      "execution_count": null,
      "outputs": []
    },
    {
      "cell_type": "code",
      "source": [
        "# set: []\n",
        "re.findall('[a-d]', st)\n"
      ],
      "metadata": {
        "colab": {
          "base_uri": "https://localhost:8080/"
        },
        "id": "YkAoudD-OIF4",
        "outputId": "e6ff4112-6a10-4aca-f136-9ab4a046c790"
      },
      "execution_count": null,
      "outputs": [
        {
          "output_type": "execute_result",
          "data": {
            "text/plain": [
              "['d', 'a', 'a', 'd', 'a', 'b']"
            ]
          },
          "metadata": {},
          "execution_count": 9
        }
      ]
    },
    {
      "cell_type": "code",
      "source": [
        "# special sequences: \\d == [0-9] , \\w == [0-9a-Z_]\n",
        "re.findall('\\w', 'my password is pass12345_')\n"
      ],
      "metadata": {
        "colab": {
          "base_uri": "https://localhost:8080/"
        },
        "id": "t63BqNn9Qftb",
        "outputId": "afe17866-c593-484a-ea13-48498534a267"
      },
      "execution_count": null,
      "outputs": [
        {
          "output_type": "execute_result",
          "data": {
            "text/plain": [
              "['m',\n",
              " 'y',\n",
              " 'p',\n",
              " 'a',\n",
              " 's',\n",
              " 's',\n",
              " 'w',\n",
              " 'o',\n",
              " 'r',\n",
              " 'd',\n",
              " 'i',\n",
              " 's',\n",
              " 'p',\n",
              " 'a',\n",
              " 's',\n",
              " 's',\n",
              " '1',\n",
              " '2',\n",
              " '3',\n",
              " '4',\n",
              " '5',\n",
              " '_']"
            ]
          },
          "metadata": {},
          "execution_count": 13
        }
      ]
    },
    {
      "cell_type": "markdown",
      "source": [
        ""
      ],
      "metadata": {
        "id": "R-GDVEvQSvql"
      }
    },
    {
      "cell_type": "markdown",
      "source": [
        "#Password Validation in Python (with Redex)\n",
        "1. At least 8 charcaters\n",
        "2. uppercase letters:A-Z\n",
        "3. lowercase letters:a-z\n",
        "4. numbers:0-9\n",
        "5. any of the special characters:@#$%^&+= \n",
        "6. Letters/numbers/special characters are optional"
      ],
      "metadata": {
        "id": "rWkrwS33SJh5"
      }
    },
    {
      "cell_type": "code",
      "source": [
        "regex='[A-Za-z0-9@#$%^&+=]{8,}'"
      ],
      "metadata": {
        "id": "sn743cXXRsbJ"
      },
      "execution_count": null,
      "outputs": []
    },
    {
      "cell_type": "code",
      "source": [
        "pwd = input('enter a password')"
      ],
      "metadata": {
        "colab": {
          "base_uri": "https://localhost:8080/"
        },
        "id": "b-2UBdloUa-_",
        "outputId": "e4cbb866-a827-48ab-acf9-7127919a2c2c"
      },
      "execution_count": null,
      "outputs": [
        {
          "name": "stdout",
          "output_type": "stream",
          "text": [
            "enter a passwordhey123456\n"
          ]
        }
      ]
    },
    {
      "cell_type": "code",
      "source": [
        "pwd"
      ],
      "metadata": {
        "colab": {
          "base_uri": "https://localhost:8080/",
          "height": 35
        },
        "id": "7RMk3p9CUnDQ",
        "outputId": "3af0a694-89ad-493c-bdef-cfca28a340e3"
      },
      "execution_count": null,
      "outputs": [
        {
          "output_type": "execute_result",
          "data": {
            "text/plain": [
              "'hey123456'"
            ],
            "application/vnd.google.colaboratory.intrinsic+json": {
              "type": "string"
            }
          },
          "metadata": {},
          "execution_count": 16
        }
      ]
    },
    {
      "cell_type": "code",
      "source": [
        "if re.fullmatch(regex, pwd):\n",
        "  print(\"congratulation there is a match\")\n",
        "else:\n",
        "  print(\"sorry, there is no match\")"
      ],
      "metadata": {
        "colab": {
          "base_uri": "https://localhost:8080/"
        },
        "id": "IOTgl7PWU5mj",
        "outputId": "0fe10785-635e-4657-96a9-ef12d4b99f84"
      },
      "execution_count": null,
      "outputs": [
        {
          "output_type": "stream",
          "name": "stdout",
          "text": [
            "congratulation there is a match\n"
          ]
        }
      ]
    },
    {
      "cell_type": "markdown",
      "source": [
        "Task 2 : valid password will only be alphanumeric characters\n",
        "1. At least 6 characters long\n",
        "2. lowercase letter\n",
        "3. uppercase letter\n",
        "4. contains a number\n"
      ],
      "metadata": {
        "id": "7IhYgmd1VrT7"
      }
    },
    {
      "cell_type": "code",
      "source": [
        "# assertion in regex: lookahead assertion: possitive lookahead assertion\n",
        "# (?=) lookahead group\n",
        "regex='(?=.*[A-Z])(?=.*[a-z])(?=.*[0-9]{6,})'\n",
        "if re.fullmatch(regex, pwd):\n",
        "  print(\"Congrats!\")\n",
        "else:\n",
        "  print(\"sorry!\")\n"
      ],
      "metadata": {
        "colab": {
          "base_uri": "https://localhost:8080/"
        },
        "id": "aQjG7vItU-IT",
        "outputId": "ad37623e-93eb-47fc-c18d-2450e07cc5a3"
      },
      "execution_count": null,
      "outputs": [
        {
          "output_type": "stream",
          "name": "stdout",
          "text": [
            "sorry!\n"
          ]
        }
      ]
    },
    {
      "cell_type": "markdown",
      "source": [
        "#Form and User Input Validation (Regex)\n",
        "\n",
        "##Time Format Validation\n",
        "write a time-format checker that determines whether the input is worth processing further with your backend application."
      ],
      "metadata": {
        "id": "YgOXcL4hYSR_"
      }
    },
    {
      "cell_type": "code",
      "source": [
        "inputs=['18:29', '23:55', '123', 'ab:de', '18;299', '99:99']"
      ],
      "metadata": {
        "id": "h8oflU7pXgB5"
      },
      "execution_count": null,
      "outputs": []
    },
    {
      "cell_type": "code",
      "source": [
        "input1= '12:45'"
      ],
      "metadata": {
        "id": "nz2pG4WOZX0n"
      },
      "execution_count": null,
      "outputs": []
    },
    {
      "cell_type": "code",
      "source": [
        "re.fullmatch('[0-9]{2}:[0-9]{2}', input1)"
      ],
      "metadata": {
        "colab": {
          "base_uri": "https://localhost:8080/"
        },
        "id": "v29zs69rZcp-",
        "outputId": "a30d2445-37bd-477d-add8-df843d4175b0"
      },
      "execution_count": null,
      "outputs": [
        {
          "output_type": "execute_result",
          "data": {
            "text/plain": [
              "<re.Match object; span=(0, 5), match='12:45'>"
            ]
          },
          "metadata": {},
          "execution_count": 26
        }
      ]
    },
    {
      "cell_type": "markdown",
      "source": [
        "Next, the given time must be a valid time format in the 24-hour time ranging from 00:00 to 23:59\n"
      ],
      "metadata": {
        "id": "qMhGj278ZzCG"
      }
    },
    {
      "cell_type": "code",
      "source": [
        "[re.fullmatch('[0-9]{2}:[0-9]{2}', x) for x in inputs]"
      ],
      "metadata": {
        "colab": {
          "base_uri": "https://localhost:8080/"
        },
        "id": "5cgwK7UeZrSC",
        "outputId": "0f36b42e-f455-4a5a-e224-5dbdd78eb699"
      },
      "execution_count": null,
      "outputs": [
        {
          "output_type": "execute_result",
          "data": {
            "text/plain": [
              "[<re.Match object; span=(0, 5), match='18:29'>,\n",
              " <re.Match object; span=(0, 5), match='23:55'>,\n",
              " None,\n",
              " None,\n",
              " None,\n",
              " <re.Match object; span=(0, 5), match='99:99'>]"
            ]
          },
          "metadata": {},
          "execution_count": 27
        }
      ]
    },
    {
      "cell_type": "code",
      "source": [
        "# adding constraint\n",
        "regex='([01][0-9]|2[0-3]):([0-5][0-9])'"
      ],
      "metadata": {
        "id": "sOnS_SNvamrP"
      },
      "execution_count": null,
      "outputs": []
    },
    {
      "cell_type": "code",
      "source": [
        "[re.fullmatch(regex, x) for x in inputs]"
      ],
      "metadata": {
        "colab": {
          "base_uri": "https://localhost:8080/"
        },
        "id": "dT60Ij2sdh0O",
        "outputId": "3c72ff77-a899-4a34-980f-14eb460f6f19"
      },
      "execution_count": null,
      "outputs": [
        {
          "output_type": "execute_result",
          "data": {
            "text/plain": [
              "[<re.Match object; span=(0, 5), match='18:29'>,\n",
              " <re.Match object; span=(0, 5), match='23:55'>,\n",
              " None,\n",
              " None,\n",
              " None,\n",
              " None]"
            ]
          },
          "metadata": {},
          "execution_count": 29
        }
      ]
    },
    {
      "cell_type": "markdown",
      "source": [
        "##Email Validation\n",
        "username is character only allowing for underscore _ and . only"
      ],
      "metadata": {
        "id": "gKvLFpVfeG7z"
      }
    },
    {
      "cell_type": "code",
      "source": [
        "inputs = ['ro$g45@gmail.com', 'r_duke78o@outlook.coma', 's.rog78o@outlook.com', 'waltofuzim@gmail.com']"
      ],
      "metadata": {
        "id": "oq2RtW5Vd2HB"
      },
      "execution_count": null,
      "outputs": []
    },
    {
      "cell_type": "code",
      "source": [
        "regex= '^(\\w|\\.|\\_|\\-)+[@]\\w+[.]\\w{2,3}$'"
      ],
      "metadata": {
        "id": "DG-info-gIXJ"
      },
      "execution_count": null,
      "outputs": []
    },
    {
      "cell_type": "code",
      "source": [
        "[re.fullmatch(regex, x) for x in inputs]"
      ],
      "metadata": {
        "colab": {
          "base_uri": "https://localhost:8080/"
        },
        "id": "xR-WQbwUg5gm",
        "outputId": "44c9c09e-c73d-4ba7-b9b5-e4f952baab6c"
      },
      "execution_count": null,
      "outputs": [
        {
          "output_type": "execute_result",
          "data": {
            "text/plain": [
              "[None,\n",
              " None,\n",
              " <re.Match object; span=(0, 20), match='s.rog78o@outlook.com'>,\n",
              " <re.Match object; span=(0, 20), match='waltofuzim@gmail.com'>]"
            ]
          },
          "metadata": {},
          "execution_count": 36
        }
      ]
    },
    {
      "cell_type": "markdown",
      "source": [
        "##Username Validation\n",
        "username is character only allowing for underscore _ and . only"
      ],
      "metadata": {
        "id": "FC7kHCPmhXSd"
      }
    },
    {
      "cell_type": "code",
      "source": [
        "inputs= ['a_roger', 'aroger', 'a.roger_de', 'a.roger_2', 'Mad_Walt']"
      ],
      "metadata": {
        "id": "SJJ9e13ZhBJJ"
      },
      "execution_count": null,
      "outputs": []
    },
    {
      "cell_type": "code",
      "source": [
        "regex= '^[a-zA-Z_.]+$'"
      ],
      "metadata": {
        "id": "hO030TDVhw_z"
      },
      "execution_count": null,
      "outputs": []
    },
    {
      "cell_type": "code",
      "source": [
        "[re.fullmatch(regex, x) for x in inputs]"
      ],
      "metadata": {
        "colab": {
          "base_uri": "https://localhost:8080/"
        },
        "id": "FEOlelRmiYBx",
        "outputId": "0c64010c-d126-460d-df40-a1cbbdfde6a7"
      },
      "execution_count": null,
      "outputs": [
        {
          "output_type": "execute_result",
          "data": {
            "text/plain": [
              "[<re.Match object; span=(0, 7), match='a_roger'>,\n",
              " <re.Match object; span=(0, 6), match='aroger'>,\n",
              " <re.Match object; span=(0, 10), match='a.roger_de'>,\n",
              " None,\n",
              " <re.Match object; span=(0, 8), match='Mad_Walt'>]"
            ]
          },
          "metadata": {},
          "execution_count": 39
        }
      ]
    },
    {
      "cell_type": "markdown",
      "source": [
        "#Extraction and Word Replacement from Server Logs\n"
      ],
      "metadata": {
        "id": "lad14jfHiwKI"
      }
    },
    {
      "cell_type": "code",
      "source": [
        "text ='abcdefghujhg'"
      ],
      "metadata": {
        "id": "J1SKaeUPii6B"
      },
      "execution_count": null,
      "outputs": []
    },
    {
      "cell_type": "code",
      "source": [
        "re.findall('ab.*?', text)"
      ],
      "metadata": {
        "colab": {
          "base_uri": "https://localhost:8080/"
        },
        "id": "upHBVJWtjY4a",
        "outputId": "bc08825b-b35e-4f1d-9a95-cfdd570e4c74"
      },
      "execution_count": null,
      "outputs": [
        {
          "output_type": "execute_result",
          "data": {
            "text/plain": [
              "['ab']"
            ]
          },
          "metadata": {},
          "execution_count": 42
        }
      ]
    },
    {
      "cell_type": "code",
      "source": [
        "text='peter piper picked a peck of pickled peppers'\n",
        "re.findall('p.*?e.*?r', text)"
      ],
      "metadata": {
        "colab": {
          "base_uri": "https://localhost:8080/"
        },
        "id": "1sDsrVgajevx",
        "outputId": "497826c3-06f6-466e-aa13-5ce8a1d252be"
      },
      "execution_count": null,
      "outputs": [
        {
          "output_type": "execute_result",
          "data": {
            "text/plain": [
              "['peter', 'piper', 'picked a peck of pickled pepper']"
            ]
          },
          "metadata": {},
          "execution_count": 43
        }
      ]
    },
    {
      "cell_type": "code",
      "source": [
        "# Problem 1 : Find a match that starts with 'crypto', then matches at the most 30 arbitrary characters and match ends when the last word is 'coin'\n",
        "text='crypto-bot that is trading Bitcoin and other currencies'\n",
        "\n",
        "re.match('crypto(.{1,30})coin', text)\n"
      ],
      "metadata": {
        "colab": {
          "base_uri": "https://localhost:8080/"
        },
        "id": "2TDhkISzklvl",
        "outputId": "531b512d-64cb-4d29-9987-b110a137d5cd"
      },
      "execution_count": null,
      "outputs": [
        {
          "output_type": "execute_result",
          "data": {
            "text/plain": [
              "<re.Match object; span=(0, 34), match='crypto-bot that is trading Bitcoin'>"
            ]
          },
          "metadata": {},
          "execution_count": 44
        }
      ]
    },
    {
      "cell_type": "code",
      "source": [
        "# Problem 2: given a string, find a list of all occurrences of dollar amounts with optional Regular expressions decimal values\n",
        "text='''\n",
        "If you invested $1 in the year 1801, you would have $1808779.41 today.\n",
        "This is a 7.967% return on investment.\n",
        "But if you invested only $0.25 in 1801, you would end up with $4521947.8525.\n",
        "'''\n",
        "\n",
        "re.findall('(\\$[0-9]+(\\.[0-9]*)?)', text)"
      ],
      "metadata": {
        "colab": {
          "base_uri": "https://localhost:8080/"
        },
        "id": "phj7xVt-lptL",
        "outputId": "5016ace4-3491-4ba3-fa45-1971a8a45a5c"
      },
      "execution_count": null,
      "outputs": [
        {
          "output_type": "execute_result",
          "data": {
            "text/plain": [
              "[('$1', ''),\n",
              " ('$1808779.41', '.41'),\n",
              " ('$0.25', '.25'),\n",
              " ('$4521947.8525', '.8525')]"
            ]
          },
          "metadata": {},
          "execution_count": 45
        }
      ]
    },
    {
      "cell_type": "code",
      "source": [
        "#Problem 3: Replace Alice Wonderland with 'Alice Doe', but not to replace occurrences of 'Alice Wonderland' when you see single quotes.\n",
        "#Introducing the '?!' Negative lookahead.\n",
        "\n",
        "text= '''\n",
        "Alice Wonderland married John Doe.\n",
        "The new name of former 'Alice Wonderland' is Alice Doe.\n",
        "Alice Wonderland replaces her old name 'Wonderland' with her new name 'Doe'.\n",
        "Alice's sister Jane Wonderland still keeps her old name.\n",
        "'''\n",
        "\n",
        "regex=\"Alice Wonderland(?!')\" \n",
        "re.sub(regex, 'Alice Doe', text)"
      ],
      "metadata": {
        "colab": {
          "base_uri": "https://localhost:8080/",
          "height": 53
        },
        "id": "TKULAc0CnKNV",
        "outputId": "3f306d21-5c41-4c5e-f50d-00d4f2c68e5f"
      },
      "execution_count": null,
      "outputs": [
        {
          "output_type": "execute_result",
          "data": {
            "text/plain": [
              "\"\\nAlice Doe married John Doe.\\nThe new name of former 'Alice Wonderland' is Alice Doe.\\nAlice Doe replaces her old name 'Wonderland' with her new name 'Doe'.\\nAlice's sister Jane Wonderland still keeps her old name.\\n\""
            ],
            "application/vnd.google.colaboratory.intrinsic+json": {
              "type": "string"
            }
          },
          "metadata": {},
          "execution_count": 46
        }
      ]
    },
    {
      "cell_type": "code",
      "source": [
        ""
      ],
      "metadata": {
        "id": "0nLwvc6tpDNP"
      },
      "execution_count": null,
      "outputs": []
    }
  ]
}